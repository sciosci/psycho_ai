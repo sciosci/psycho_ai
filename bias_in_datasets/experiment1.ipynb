{
 "cells": [
  {
   "cell_type": "code",
   "execution_count": 1,
   "source": [
    "from psycho_ai import two_afc\n",
    "import json\n",
    "from itertools import product"
   ],
   "outputs": [],
   "metadata": {}
  },
  {
   "cell_type": "code",
   "execution_count": 2,
   "source": [
    "embedding = two_afc.get_glove_100d()\n",
    "\n",
    "target_occupations = ['accountant', 'supervisor', 'worker', 'clerk', 'instructor', 'inspector',\n",
    "          'electrician','appraiser', 'administrator', 'receptionist', 'advisor', 'chemist',\n",
    "          'planner','paralegal', 'veterinarian', 'psychologist',  'baker', 'teacher', \n",
    "          'lawyer','nutritionist', 'hairdresser','pathologist', 'surgeon', 'practitioner', \n",
    "          'carpenter']\n",
    "\n",
    "target_Research = ['manuscript', 'revision', 'editor', 'acceptance', 'rejection', 'high-profile', \n",
    "          'impact factor', 'research', 'thesis', 'dissertation']\n",
    "target_teaching = ['class', 'grade', 'evaluation', 'course', 'semester', 'contents', 'teaching', \n",
    "          'A+ grade', 'F grade', 'syllabus', 'curriculum', 'credit']\n",
    "target_service = ['committee', 'editor', 'reviewer', 'peer-reviewing', 'chair', 'conference', \n",
    "          'workshop', 'satellite session', 'symposium', 'summer school', 'sub-committee', 'panel', \n",
    "          'reviewer', 'organizer', 'advisor']\n",
    "target_funding = ['grant', 'funding', 'CAREER', 'NSF', 'NIH', 'funding agency', 'foundation', \n",
    "          'budget', 'overhead', 'federal']\n",
    "\n",
    "\n",
    "\n",
    "female_male_pairs = [['woman', 'man'],\n",
    "                     ['female', 'male'],\n",
    "                     ['she', 'he'],\n",
    "                     ['her', 'him'],\n",
    "                     ['hers', 'his'],\n",
    "                     ['daughter', 'son'],\n",
    "                     ['girl', 'boy'],\n",
    "                     ['sister', 'brother']]\n",
    "names = json.load(open('race.json','r'))\n",
    "african_european_pair = list(product(names['African-American'],names['European']))"
   ],
   "outputs": [
    {
     "output_type": "stream",
     "name": "stderr",
     "text": [
      "400000it [00:08, 45290.13it/s]\n"
     ]
    }
   ],
   "metadata": {}
  },
  {
   "cell_type": "code",
   "execution_count": 11,
   "source": [
    "pse_score = two_afc.pse(embedding, target_occupations, female_male_pairs)\n",
    "print(pse_score)"
   ],
   "outputs": [
    {
     "output_type": "stream",
     "name": "stdout",
     "text": [
      "{'advisor': 0.23486328125, 'inspector': 0.30322265625, 'administrator': 0.35205078125, 'electrician': 0.3525390625, 'baker': 0.35595703125, 'carpenter': 0.36669921875, 'chemist': 0.36767578125, 'appraiser': 0.369140625, 'lawyer': 0.3994140625, 'planner': 0.40673828125, 'pathologist': 0.44287109375, 'instructor': 0.4501953125, 'surgeon': 0.4794921875, 'veterinarian': 0.490234375, 'accountant': 0.49609375, 'clerk': 0.52490234375, 'worker': 0.53662109375, 'teacher': 0.5634765625, 'practitioner': 0.5966796875, 'psychologist': 0.59765625, 'supervisor': 0.642578125, 'paralegal': 0.72119140625, 'nutritionist': 0.73828125, 'receptionist': 0.7529296875, 'hairdresser': 0.76513671875}\n"
     ]
    }
   ],
   "metadata": {}
  }
 ],
 "metadata": {
  "orig_nbformat": 4,
  "language_info": {
   "name": "python",
   "version": "3.7.10",
   "mimetype": "text/x-python",
   "codemirror_mode": {
    "name": "ipython",
    "version": 3
   },
   "pygments_lexer": "ipython3",
   "nbconvert_exporter": "python",
   "file_extension": ".py"
  },
  "kernelspec": {
   "name": "python3",
   "display_name": "Python 3.7.10 64-bit ('base': conda)"
  },
  "interpreter": {
   "hash": "ca3c0fb8fe39c83e2aef932c160e2421a0589d549facec1211817fc91676033a"
  }
 },
 "nbformat": 4,
 "nbformat_minor": 2
}